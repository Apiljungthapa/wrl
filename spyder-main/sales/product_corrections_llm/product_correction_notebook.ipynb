{
 "cells": [
  {
   "cell_type": "markdown",
   "metadata": {},
   "source": [
    "# Getting the Correct Data"
   ]
  },
  {
   "cell_type": "code",
   "execution_count": 31,
   "metadata": {},
   "outputs": [],
   "source": [
    "import pandas as pd\n",
    "import faiss"
   ]
  },
  {
   "cell_type": "code",
   "execution_count": 21,
   "metadata": {},
   "outputs": [],
   "source": [
    "df=pd.read_excel(\"nepa2_inventory.xlsx\")"
   ]
  },
  {
   "cell_type": "code",
   "execution_count": 2,
   "metadata": {},
   "outputs": [],
   "source": [
    "df.head()"
   ]
  },
  {
   "cell_type": "markdown",
   "metadata": {},
   "source": [
    "# converting into embeddings"
   ]
  },
  {
   "cell_type": "code",
   "execution_count": 1,
   "metadata": {},
   "outputs": [],
   "source": [
    "import numpy as np\n",
    "from sentence_transformers import SentenceTransformer\n",
    "\n",
    "# Load model and generate embeddings\n",
    "model = SentenceTransformer('all-MiniLM-L6-v2')\n",
    "correct_products = df['Display_Name'].to_list()\n",
    "\n",
    "# Check for valid strings\n",
    "correct_products = [product for product in correct_products if isinstance(product, str) and product.strip()]\n",
    "\n",
    "# Generate embeddings\n",
    "correct_embeddings = model.encode(correct_products)\n",
    "\n",
    "# Check the structure of embeddings\n",
    "print(correct_embeddings[:5])  # Optional: To verify the structure\n",
    "\n",
    "# Convert to numpy array\n",
    "correct_embeddings = np.array(correct_embeddings, dtype='float32')\n"
   ]
  },
  {
   "cell_type": "markdown",
   "metadata": {},
   "source": [
    "# Saving Vector Embeddings"
   ]
  },
  {
   "cell_type": "code",
   "execution_count": 142,
   "metadata": {},
   "outputs": [],
   "source": [
    "\n",
    "# Open a file in write mode\n",
    "with open('Inventory_Vectors.txt', 'w') as file:\n",
    "    # Write the opening bracket for the outer list\n",
    "    file.write('[\\n')\n",
    "    \n",
    "    # Iterate over each inner list\n",
    "    for inner_list in correct_embeddings:\n",
    "        # Convert each inner list to a formatted string with brackets and newline\n",
    "        formatted_line = '  [' + ', '.join(map(str, inner_list)) + '],\\n'\n",
    "        # Write the formatted line to the file\n",
    "        file.write(formatted_line)\n",
    "    \n",
    "    # Write the closing bracket for the outer list\n",
    "    file.write(']\\n')\n"
   ]
  },
  {
   "cell_type": "markdown",
   "metadata": {},
   "source": [
    "# putting into vector database"
   ]
  },
  {
   "cell_type": "code",
   "execution_count": 146,
   "metadata": {},
   "outputs": [],
   "source": [
    "import ast  \n",
    "\n",
    "\n",
    "def read_list_from_file(filename):\n",
    "    with open(filename, 'r') as file:\n",
    "        # Read the entire file content\n",
    "        file_content = file.read()\n",
    "    \n",
    " \n",
    "    vector = ast.literal_eval(file_content)\n",
    "    \n",
    "    return vector\n",
    "\n",
    "\n",
    "correct_embeddings = read_list_from_file('Inventory_Vectors.txt')\n"
   ]
  },
  {
   "cell_type": "code",
   "execution_count": 148,
   "metadata": {},
   "outputs": [],
   "source": [
    "correct_embeddings=np.array(correct_embeddings)"
   ]
  },
  {
   "cell_type": "code",
   "execution_count": 149,
   "metadata": {},
   "outputs": [],
   "source": [
    "# Step 1: Create an FAISS index\n",
    "index = faiss.IndexFlatL2(correct_embeddings.shape[1])  # L2 distance (Euclidean)\n",
    "index.add(correct_embeddings)  # Add vectors to the index"
   ]
  },
  {
   "cell_type": "markdown",
   "metadata": {},
   "source": [
    "# Finding best Possible words"
   ]
  },
  {
   "cell_type": "code",
   "execution_count": 153,
   "metadata": {},
   "outputs": [],
   "source": [
    "incorrect_product_name=str(input(\"Enter Incorrect Product Name\"))"
   ]
  },
  {
   "cell_type": "code",
   "execution_count": 154,
   "metadata": {},
   "outputs": [],
   "source": [
    "\n",
    "# Function to find the closest product name\n",
    "def correct_product_name(incorrect_product_name):\n",
    "    incorrect_embedding = model.encode([incorrect_product_name])[0].astype('float32')\n",
    "    D, I = index.search(np.array([incorrect_embedding]), k=10)  # Search for the closest vector\n",
    "    return I\n",
    "\n",
    "\n",
    "top_10_indices=correct_product_name(incorrect_product_name)\n",
    "\n",
    "Top_10_Matching_Product = [correct_products[i] for i in top_10_indices[0]]"
   ]
  },
  {
   "cell_type": "code",
   "execution_count": 155,
   "metadata": {},
   "outputs": [
    {
     "data": {
      "text/plain": [
       "['FUME DISPLAY',\n",
       " 'FUME 5PK SPLIFFBOYZ (Melon Kiwi)',\n",
       " 'FUME 5PK SPLIFFBOYZ (Tobacco)',\n",
       " 'FUME 5PK SPLIFFBOYZ (Sour Apple)',\n",
       " 'FUME 5PK SPLIFFBOYZ (Grape)',\n",
       " '.FUME 12CT BLUE RAZZ ENERGY DRINK',\n",
       " 'FUME 5PK LIMITED (Strawberry Diesel)',\n",
       " 'FUME 5PK LIMITED (Watermelon Og)',\n",
       " 'FUME 5PK SUPREME (Banana Kandy Kush)',\n",
       " 'FUME 5PK LIMITED (Forbidden Fruit)']"
      ]
     },
     "execution_count": 155,
     "metadata": {},
     "output_type": "execute_result"
    }
   ],
   "source": [
    "Top_10_Matching_Product "
   ]
  }
 ],
 "metadata": {
  "kernelspec": {
   "display_name": "venv",
   "language": "python",
   "name": "python3"
  },
  "language_info": {
   "codemirror_mode": {
    "name": "ipython",
    "version": 3
   },
   "file_extension": ".py",
   "mimetype": "text/x-python",
   "name": "python",
   "nbconvert_exporter": "python",
   "pygments_lexer": "ipython3",
   "version": "3.9.2"
  }
 },
 "nbformat": 4,
 "nbformat_minor": 2
}
