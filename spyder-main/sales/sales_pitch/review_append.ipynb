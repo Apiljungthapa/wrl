{
 "cells": [
  {
   "cell_type": "code",
   "execution_count": 1,
   "metadata": {},
   "outputs": [],
   "source": [
    "import pandas as pd"
   ]
  },
  {
   "cell_type": "markdown",
   "metadata": {},
   "source": [
    "## Appending all reviews into single columns from reading directory"
   ]
  },
  {
   "cell_type": "code",
   "execution_count": 2,
   "metadata": {},
   "outputs": [
    {
     "name": "stdout",
     "output_type": "stream",
     "text": [
      "Combined reviews saved to output_reviews\\Combined_Reviews.xlsx\n"
     ]
    }
   ],
   "source": [
    "import os\n",
    "import pandas as pd\n",
    "\n",
    "def combine_reviews_in_directory(directory_path):\n",
    "    combined_reviews_list = []\n",
    "\n",
    "    for filename in os.listdir(directory_path):\n",
    "        if filename.endswith('.xlsx'):\n",
    "            file_path = os.path.join(directory_path, filename)\n",
    "            df = pd.read_excel(file_path)\n",
    "\n",
    "            df=df[df['Review_Comment'] != 'BLANK' ]\n",
    "\n",
    "            # Combine all reviews for each shop into a single paragraph\n",
    "            reviews_combined = df.groupby('Shop_Name')['Review_Comment'].apply(lambda x: ' '.join(x.dropna()))\n",
    "\n",
    "            # Append the combined reviews to the list\n",
    "            combined_reviews_list.append(reviews_combined.reset_index())\n",
    "\n",
    "    # Concatenate all combined reviews into a single DataFrame\n",
    "    combined_reviews_df = pd.concat(combined_reviews_list, ignore_index=True)\n",
    "    \n",
    "    # Save the combined reviews to a new Excel file\n",
    "    output_file_path = os.path.join(directory_path, 'Combined_Reviews.xlsx')\n",
    "    combined_reviews_df.to_excel(output_file_path, index=False)\n",
    "\n",
    "    print(f\"Combined reviews saved to {output_file_path}\")\n",
    "\n",
    "# Example usage\n",
    "directory_path = 'output_reviews'  # Specify the directory containing your Excel files\n",
    "combine_reviews_in_directory(directory_path)\n"
   ]
  },
  {
   "cell_type": "code",
   "execution_count": null,
   "metadata": {},
   "outputs": [],
   "source": []
  }
 ],
 "metadata": {
  "kernelspec": {
   "display_name": "venv",
   "language": "python",
   "name": "python3"
  },
  "language_info": {
   "codemirror_mode": {
    "name": "ipython",
    "version": 3
   },
   "file_extension": ".py",
   "mimetype": "text/x-python",
   "name": "python",
   "nbconvert_exporter": "python",
   "pygments_lexer": "ipython3",
   "version": "3.12.4"
  }
 },
 "nbformat": 4,
 "nbformat_minor": 2
}
