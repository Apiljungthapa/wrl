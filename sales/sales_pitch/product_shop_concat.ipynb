{
 "cells": [
  {
   "cell_type": "markdown",
   "metadata": {},
   "source": [
    "# this notebook is just for merging the two csv files"
   ]
  },
  {
   "cell_type": "code",
   "execution_count": null,
   "metadata": {},
   "outputs": [],
   "source": [
    "import pandas as pd"
   ]
  },
  {
   "cell_type": "code",
   "execution_count": 3,
   "metadata": {},
   "outputs": [],
   "source": [
    "df1=pd.read_excel('final_review_ra_homepage_product_vayeko.xlsx')"
   ]
  },
  {
   "cell_type": "code",
   "execution_count": 4,
   "metadata": {},
   "outputs": [],
   "source": [
    "df2=pd.read_excel('product found.xlsx')"
   ]
  },
  {
   "cell_type": "code",
   "execution_count": 7,
   "metadata": {},
   "outputs": [
    {
     "data": {
      "text/html": [
       "<div>\n",
       "<style scoped>\n",
       "    .dataframe tbody tr th:only-of-type {\n",
       "        vertical-align: middle;\n",
       "    }\n",
       "\n",
       "    .dataframe tbody tr th {\n",
       "        vertical-align: top;\n",
       "    }\n",
       "\n",
       "    .dataframe thead th {\n",
       "        text-align: right;\n",
       "    }\n",
       "</style>\n",
       "<table border=\"1\" class=\"dataframe\">\n",
       "  <thead>\n",
       "    <tr style=\"text-align: right;\">\n",
       "      <th></th>\n",
       "      <th>shop</th>\n",
       "      <th>rating</th>\n",
       "      <th>total_ratings</th>\n",
       "      <th>type</th>\n",
       "      <th>address</th>\n",
       "      <th>website</th>\n",
       "      <th>emails</th>\n",
       "      <th>Latitude</th>\n",
       "      <th>Longitude</th>\n",
       "      <th>Street</th>\n",
       "      <th>City</th>\n",
       "      <th>State</th>\n",
       "      <th>Zip</th>\n",
       "    </tr>\n",
       "  </thead>\n",
       "  <tbody>\n",
       "    <tr>\n",
       "      <th>0</th>\n",
       "      <td>Puro Cigars Lounge</td>\n",
       "      <td>4.8</td>\n",
       "      <td>(156)</td>\n",
       "      <td>Cigar shop</td>\n",
       "      <td>35202 S Dixie Hwy suite130, Florida City, FL 3...</td>\n",
       "      <td>https://purocigarslounge.com/</td>\n",
       "      <td>Not Found</td>\n",
       "      <td>25.440188</td>\n",
       "      <td>-80.475767</td>\n",
       "      <td>S Dixie Hwy</td>\n",
       "      <td>Homestead</td>\n",
       "      <td>FL</td>\n",
       "      <td>33034</td>\n",
       "    </tr>\n",
       "    <tr>\n",
       "      <th>1</th>\n",
       "      <td>Cigar Bundles of Miami and Lounge</td>\n",
       "      <td>4.7</td>\n",
       "      <td>(143)</td>\n",
       "      <td>Cigar shop</td>\n",
       "      <td>405 SE 1st Ave, Florida City, FL 33034</td>\n",
       "      <td>https://www.cigarbundlesofmiami.com/</td>\n",
       "      <td>Not Found</td>\n",
       "      <td>25.466442</td>\n",
       "      <td>-80.476960</td>\n",
       "      <td>SE 1st Ave</td>\n",
       "      <td>Homestead</td>\n",
       "      <td>FL</td>\n",
       "      <td>33034</td>\n",
       "    </tr>\n",
       "  </tbody>\n",
       "</table>\n",
       "</div>"
      ],
      "text/plain": [
       "                                shop  rating total_ratings        type  \\\n",
       "0                 Puro Cigars Lounge     4.8         (156)  Cigar shop   \n",
       "1  Cigar Bundles of Miami and Lounge     4.7         (143)  Cigar shop   \n",
       "\n",
       "                                             address  \\\n",
       "0  35202 S Dixie Hwy suite130, Florida City, FL 3...   \n",
       "1             405 SE 1st Ave, Florida City, FL 33034   \n",
       "\n",
       "                                website     emails   Latitude  Longitude  \\\n",
       "0         https://purocigarslounge.com/  Not Found  25.440188 -80.475767   \n",
       "1  https://www.cigarbundlesofmiami.com/  Not Found  25.466442 -80.476960   \n",
       "\n",
       "        Street       City State    Zip  \n",
       "0  S Dixie Hwy  Homestead    FL  33034  \n",
       "1   SE 1st Ave  Homestead    FL  33034  "
      ]
     },
     "execution_count": 7,
     "metadata": {},
     "output_type": "execute_result"
    }
   ],
   "source": [
    "df1.head(2)"
   ]
  },
  {
   "cell_type": "code",
   "execution_count": 8,
   "metadata": {},
   "outputs": [
    {
     "data": {
      "text/html": [
       "<div>\n",
       "<style scoped>\n",
       "    .dataframe tbody tr th:only-of-type {\n",
       "        vertical-align: middle;\n",
       "    }\n",
       "\n",
       "    .dataframe tbody tr th {\n",
       "        vertical-align: top;\n",
       "    }\n",
       "\n",
       "    .dataframe thead th {\n",
       "        text-align: right;\n",
       "    }\n",
       "</style>\n",
       "<table border=\"1\" class=\"dataframe\">\n",
       "  <thead>\n",
       "    <tr style=\"text-align: right;\">\n",
       "      <th></th>\n",
       "      <th>website</th>\n",
       "      <th>Trending_Products</th>\n",
       "    </tr>\n",
       "  </thead>\n",
       "  <tbody>\n",
       "    <tr>\n",
       "      <th>0</th>\n",
       "      <td>https://purocigarslounge.com/</td>\n",
       "      <td>Perdomo Habano, Padron 1964 Anniversary Imperi...</td>\n",
       "    </tr>\n",
       "    <tr>\n",
       "      <th>1</th>\n",
       "      <td>https://www.cigarbundlesofmiami.com/</td>\n",
       "      <td>Here is the list of product names extracted fr...</td>\n",
       "    </tr>\n",
       "  </tbody>\n",
       "</table>\n",
       "</div>"
      ],
      "text/plain": [
       "                                website  \\\n",
       "0         https://purocigarslounge.com/   \n",
       "1  https://www.cigarbundlesofmiami.com/   \n",
       "\n",
       "                                   Trending_Products  \n",
       "0  Perdomo Habano, Padron 1964 Anniversary Imperi...  \n",
       "1  Here is the list of product names extracted fr...  "
      ]
     },
     "execution_count": 8,
     "metadata": {},
     "output_type": "execute_result"
    }
   ],
   "source": [
    "df2.head(2)"
   ]
  },
  {
   "cell_type": "code",
   "execution_count": 15,
   "metadata": {},
   "outputs": [],
   "source": [
    "df3=df1.merge(df2,how='inner',on='website')"
   ]
  },
  {
   "cell_type": "code",
   "execution_count": 23,
   "metadata": {},
   "outputs": [
    {
     "data": {
      "text/html": [
       "<div>\n",
       "<style scoped>\n",
       "    .dataframe tbody tr th:only-of-type {\n",
       "        vertical-align: middle;\n",
       "    }\n",
       "\n",
       "    .dataframe tbody tr th {\n",
       "        vertical-align: top;\n",
       "    }\n",
       "\n",
       "    .dataframe thead th {\n",
       "        text-align: right;\n",
       "    }\n",
       "</style>\n",
       "<table border=\"1\" class=\"dataframe\">\n",
       "  <thead>\n",
       "    <tr style=\"text-align: right;\">\n",
       "      <th></th>\n",
       "      <th>shop</th>\n",
       "      <th>rating</th>\n",
       "      <th>total_ratings</th>\n",
       "      <th>type</th>\n",
       "      <th>address</th>\n",
       "      <th>website</th>\n",
       "      <th>emails</th>\n",
       "      <th>Latitude</th>\n",
       "      <th>Longitude</th>\n",
       "      <th>Street</th>\n",
       "      <th>City</th>\n",
       "      <th>State</th>\n",
       "      <th>Zip</th>\n",
       "      <th>Trending_Products</th>\n",
       "    </tr>\n",
       "  </thead>\n",
       "  <tbody>\n",
       "    <tr>\n",
       "      <th>0</th>\n",
       "      <td>Puro Cigars Lounge</td>\n",
       "      <td>4.8</td>\n",
       "      <td>(156)</td>\n",
       "      <td>Cigar shop</td>\n",
       "      <td>35202 S Dixie Hwy suite130, Florida City, FL 3...</td>\n",
       "      <td>https://purocigarslounge.com/</td>\n",
       "      <td>Not Found</td>\n",
       "      <td>25.440188</td>\n",
       "      <td>-80.475767</td>\n",
       "      <td>S Dixie Hwy</td>\n",
       "      <td>Homestead</td>\n",
       "      <td>FL</td>\n",
       "      <td>33034</td>\n",
       "      <td>Perdomo Habano, Padron 1964 Anniversary Imperi...</td>\n",
       "    </tr>\n",
       "    <tr>\n",
       "      <th>1</th>\n",
       "      <td>Cigar Bundles of Miami and Lounge</td>\n",
       "      <td>4.7</td>\n",
       "      <td>(143)</td>\n",
       "      <td>Cigar shop</td>\n",
       "      <td>405 SE 1st Ave, Florida City, FL 33034</td>\n",
       "      <td>https://www.cigarbundlesofmiami.com/</td>\n",
       "      <td>Not Found</td>\n",
       "      <td>25.466442</td>\n",
       "      <td>-80.476960</td>\n",
       "      <td>SE 1st Ave</td>\n",
       "      <td>Homestead</td>\n",
       "      <td>FL</td>\n",
       "      <td>33034</td>\n",
       "      <td>Here is the list of product names extracted fr...</td>\n",
       "    </tr>\n",
       "  </tbody>\n",
       "</table>\n",
       "</div>"
      ],
      "text/plain": [
       "                                shop  rating total_ratings        type  \\\n",
       "0                 Puro Cigars Lounge     4.8         (156)  Cigar shop   \n",
       "1  Cigar Bundles of Miami and Lounge     4.7         (143)  Cigar shop   \n",
       "\n",
       "                                             address  \\\n",
       "0  35202 S Dixie Hwy suite130, Florida City, FL 3...   \n",
       "1             405 SE 1st Ave, Florida City, FL 33034   \n",
       "\n",
       "                                website     emails   Latitude  Longitude  \\\n",
       "0         https://purocigarslounge.com/  Not Found  25.440188 -80.475767   \n",
       "1  https://www.cigarbundlesofmiami.com/  Not Found  25.466442 -80.476960   \n",
       "\n",
       "        Street       City State    Zip  \\\n",
       "0  S Dixie Hwy  Homestead    FL  33034   \n",
       "1   SE 1st Ave  Homestead    FL  33034   \n",
       "\n",
       "                                   Trending_Products  \n",
       "0  Perdomo Habano, Padron 1964 Anniversary Imperi...  \n",
       "1  Here is the list of product names extracted fr...  "
      ]
     },
     "execution_count": 23,
     "metadata": {},
     "output_type": "execute_result"
    }
   ],
   "source": [
    "df3.head(2)"
   ]
  },
  {
   "cell_type": "code",
   "execution_count": 22,
   "metadata": {},
   "outputs": [],
   "source": [
    "df3.to_excel(\"start_version_1.xlsx\",index=False)"
   ]
  },
  {
   "cell_type": "code",
   "execution_count": 1,
   "metadata": {},
   "outputs": [],
   "source": [
    "import pandas as pd"
   ]
  },
  {
   "cell_type": "code",
   "execution_count": 2,
   "metadata": {},
   "outputs": [],
   "source": [
    "df= pd.read_excel(\"start_version_1.xlsx\")\n",
    "\n",
    "df['shop']=df['shop'].str.lower()"
   ]
  },
  {
   "cell_type": "code",
   "execution_count": 3,
   "metadata": {},
   "outputs": [
    {
     "data": {
      "text/html": [
       "<div>\n",
       "<style scoped>\n",
       "    .dataframe tbody tr th:only-of-type {\n",
       "        vertical-align: middle;\n",
       "    }\n",
       "\n",
       "    .dataframe tbody tr th {\n",
       "        vertical-align: top;\n",
       "    }\n",
       "\n",
       "    .dataframe thead th {\n",
       "        text-align: right;\n",
       "    }\n",
       "</style>\n",
       "<table border=\"1\" class=\"dataframe\">\n",
       "  <thead>\n",
       "    <tr style=\"text-align: right;\">\n",
       "      <th></th>\n",
       "      <th>shop</th>\n",
       "      <th>rating</th>\n",
       "      <th>total_ratings</th>\n",
       "      <th>type</th>\n",
       "      <th>address</th>\n",
       "      <th>website</th>\n",
       "      <th>emails</th>\n",
       "      <th>Latitude</th>\n",
       "      <th>Longitude</th>\n",
       "      <th>Street</th>\n",
       "      <th>City</th>\n",
       "      <th>State</th>\n",
       "      <th>Zip</th>\n",
       "      <th>Trending_Products</th>\n",
       "    </tr>\n",
       "  </thead>\n",
       "  <tbody>\n",
       "    <tr>\n",
       "      <th>0</th>\n",
       "      <td>puro cigars lounge</td>\n",
       "      <td>4.8</td>\n",
       "      <td>(156)</td>\n",
       "      <td>Cigar shop</td>\n",
       "      <td>35202 S Dixie Hwy suite130, Florida City, FL 3...</td>\n",
       "      <td>https://purocigarslounge.com/</td>\n",
       "      <td>Not Found</td>\n",
       "      <td>25.440188</td>\n",
       "      <td>-80.475767</td>\n",
       "      <td>S Dixie Hwy</td>\n",
       "      <td>Homestead</td>\n",
       "      <td>FL</td>\n",
       "      <td>33034</td>\n",
       "      <td>Perdomo Habano, Padron 1964 Anniversary Imperi...</td>\n",
       "    </tr>\n",
       "    <tr>\n",
       "      <th>1</th>\n",
       "      <td>cigar bundles of miami and lounge</td>\n",
       "      <td>4.7</td>\n",
       "      <td>(143)</td>\n",
       "      <td>Cigar shop</td>\n",
       "      <td>405 SE 1st Ave, Florida City, FL 33034</td>\n",
       "      <td>https://www.cigarbundlesofmiami.com/</td>\n",
       "      <td>Not Found</td>\n",
       "      <td>25.466442</td>\n",
       "      <td>-80.476960</td>\n",
       "      <td>SE 1st Ave</td>\n",
       "      <td>Homestead</td>\n",
       "      <td>FL</td>\n",
       "      <td>33034</td>\n",
       "      <td>\\nCuban Behike Style promo, 6x60 Boxpress Madu...</td>\n",
       "    </tr>\n",
       "  </tbody>\n",
       "</table>\n",
       "</div>"
      ],
      "text/plain": [
       "                                shop  rating total_ratings        type  \\\n",
       "0                 puro cigars lounge     4.8         (156)  Cigar shop   \n",
       "1  cigar bundles of miami and lounge     4.7         (143)  Cigar shop   \n",
       "\n",
       "                                             address  \\\n",
       "0  35202 S Dixie Hwy suite130, Florida City, FL 3...   \n",
       "1             405 SE 1st Ave, Florida City, FL 33034   \n",
       "\n",
       "                                website     emails   Latitude  Longitude  \\\n",
       "0         https://purocigarslounge.com/  Not Found  25.440188 -80.475767   \n",
       "1  https://www.cigarbundlesofmiami.com/  Not Found  25.466442 -80.476960   \n",
       "\n",
       "        Street       City State    Zip  \\\n",
       "0  S Dixie Hwy  Homestead    FL  33034   \n",
       "1   SE 1st Ave  Homestead    FL  33034   \n",
       "\n",
       "                                   Trending_Products  \n",
       "0  Perdomo Habano, Padron 1964 Anniversary Imperi...  \n",
       "1  \\nCuban Behike Style promo, 6x60 Boxpress Madu...  "
      ]
     },
     "execution_count": 3,
     "metadata": {},
     "output_type": "execute_result"
    }
   ],
   "source": [
    "df.head(2)"
   ]
  },
  {
   "cell_type": "code",
   "execution_count": 4,
   "metadata": {},
   "outputs": [
    {
     "data": {
      "text/plain": [
       "array(['puro cigars lounge', 'cigar bundles of miami and lounge',\n",
       "       'saga bay cigars', 'miami humidor cigar shop us1',\n",
       "       'don benigno cigars (online store)', 'el arte del habano cigars',\n",
       "       'cigar cellar of miami', 'miami humidor cigar shop miller',\n",
       "       'holy smokes kendall', 'little havana cigar factory',\n",
       "       'cuban crafters', 'top cigars',\n",
       "       'miami tobacco traders - cigars, wine, beer & art',\n",
       "       'havana classic cigar', 'the lord of the cigars, corp.',\n",
       "       'racetrac', 'mega wine & spirits', '444 smoke and vape',\n",
       "       'soflo smoke shop', 'next level smoke shop',\n",
       "       'pink hippo smoke and vape', 'vapes xpress',\n",
       "       'mystic joint kava bar & vape shop',\n",
       "       'the original key west cigar factory', 'chevron',\n",
       "       'key west fine wines', 'habibi corporation'], dtype=object)"
      ]
     },
     "execution_count": 4,
     "metadata": {},
     "output_type": "execute_result"
    }
   ],
   "source": [
    "df['shop'].unique()"
   ]
  },
  {
   "cell_type": "code",
   "execution_count": 5,
   "metadata": {},
   "outputs": [],
   "source": [
    "df1= pd.read_excel(\"Combined_Reviews.xlsx\")"
   ]
  },
  {
   "cell_type": "code",
   "execution_count": 6,
   "metadata": {},
   "outputs": [],
   "source": [
    "\n",
    "df1['shop']=df1['shop'].str.lower()"
   ]
  },
  {
   "cell_type": "code",
   "execution_count": 7,
   "metadata": {},
   "outputs": [
    {
     "data": {
      "text/plain": [
       "array(['444 smoke and vape', 'racetrac', 'chevron',\n",
       "       'cigar bundles of miami and lounge', 'cigar cellar of miami',\n",
       "       'cuban crafters', 'don benigno cigars (online store)',\n",
       "       'el arte del habano cigars', 'habibi corporation',\n",
       "       'havana classic cigar', 'holy smokes kendall',\n",
       "       'key west fine wines', 'little havana cigar factory',\n",
       "       'mega wine & spirits', 'miami humidor cigar shop miller',\n",
       "       'miami humidor cigar shop us1', 'miami tobacco traders - cigars',\n",
       "       'mystic joint kava bar & vape shop', 'next level smoke shop',\n",
       "       'pink hippo smoke and vape', 'puro cigars lounge',\n",
       "       'saga bay cigars', 'soflo smoke shop',\n",
       "       'the original key west cigar factory', 'top cigars'], dtype=object)"
      ]
     },
     "execution_count": 7,
     "metadata": {},
     "output_type": "execute_result"
    }
   ],
   "source": [
    "df1['shop'].unique()"
   ]
  },
  {
   "cell_type": "code",
   "execution_count": 8,
   "metadata": {},
   "outputs": [
    {
     "data": {
      "text/plain": [
       "(26, 2)"
      ]
     },
     "execution_count": 8,
     "metadata": {},
     "output_type": "execute_result"
    }
   ],
   "source": [
    "df1.shape"
   ]
  },
  {
   "cell_type": "code",
   "execution_count": 9,
   "metadata": {},
   "outputs": [
    {
     "data": {
      "text/plain": [
       "(27, 14)"
      ]
     },
     "execution_count": 9,
     "metadata": {},
     "output_type": "execute_result"
    }
   ],
   "source": [
    "df.shape"
   ]
  },
  {
   "cell_type": "code",
   "execution_count": 12,
   "metadata": {},
   "outputs": [],
   "source": [
    "df3=df.merge(df1,how='inner',on='shop')"
   ]
  },
  {
   "cell_type": "code",
   "execution_count": 14,
   "metadata": {},
   "outputs": [
    {
     "data": {
      "text/plain": [
       "(24, 15)"
      ]
     },
     "execution_count": 14,
     "metadata": {},
     "output_type": "execute_result"
    }
   ],
   "source": [
    "df3.shape"
   ]
  },
  {
   "cell_type": "code",
   "execution_count": 16,
   "metadata": {},
   "outputs": [
    {
     "data": {
      "text/html": [
       "<div>\n",
       "<style scoped>\n",
       "    .dataframe tbody tr th:only-of-type {\n",
       "        vertical-align: middle;\n",
       "    }\n",
       "\n",
       "    .dataframe tbody tr th {\n",
       "        vertical-align: top;\n",
       "    }\n",
       "\n",
       "    .dataframe thead th {\n",
       "        text-align: right;\n",
       "    }\n",
       "</style>\n",
       "<table border=\"1\" class=\"dataframe\">\n",
       "  <thead>\n",
       "    <tr style=\"text-align: right;\">\n",
       "      <th></th>\n",
       "      <th>shop</th>\n",
       "      <th>rating</th>\n",
       "      <th>total_ratings</th>\n",
       "      <th>type</th>\n",
       "      <th>address</th>\n",
       "      <th>website</th>\n",
       "      <th>emails</th>\n",
       "      <th>Latitude</th>\n",
       "      <th>Longitude</th>\n",
       "      <th>Street</th>\n",
       "      <th>City</th>\n",
       "      <th>State</th>\n",
       "      <th>Zip</th>\n",
       "      <th>Trending_Products</th>\n",
       "      <th>Review_Comment</th>\n",
       "    </tr>\n",
       "  </thead>\n",
       "  <tbody>\n",
       "    <tr>\n",
       "      <th>0</th>\n",
       "      <td>puro cigars lounge</td>\n",
       "      <td>4.8</td>\n",
       "      <td>(156)</td>\n",
       "      <td>Cigar shop</td>\n",
       "      <td>35202 S Dixie Hwy suite130, Florida City, FL 3...</td>\n",
       "      <td>https://purocigarslounge.com/</td>\n",
       "      <td>Not Found</td>\n",
       "      <td>25.440188</td>\n",
       "      <td>-80.475767</td>\n",
       "      <td>S Dixie Hwy</td>\n",
       "      <td>Homestead</td>\n",
       "      <td>FL</td>\n",
       "      <td>33034</td>\n",
       "      <td>Perdomo Habano, Padron 1964 Anniversary Imperi...</td>\n",
       "      <td>NEW Best cigar shop in Florida!!! Albanian Hea...</td>\n",
       "    </tr>\n",
       "    <tr>\n",
       "      <th>1</th>\n",
       "      <td>cigar bundles of miami and lounge</td>\n",
       "      <td>4.7</td>\n",
       "      <td>(143)</td>\n",
       "      <td>Cigar shop</td>\n",
       "      <td>405 SE 1st Ave, Florida City, FL 33034</td>\n",
       "      <td>https://www.cigarbundlesofmiami.com/</td>\n",
       "      <td>Not Found</td>\n",
       "      <td>25.466442</td>\n",
       "      <td>-80.476960</td>\n",
       "      <td>SE 1st Ave</td>\n",
       "      <td>Homestead</td>\n",
       "      <td>FL</td>\n",
       "      <td>33034</td>\n",
       "      <td>\\nCuban Behike Style promo, 6x60 Boxpress Madu...</td>\n",
       "      <td>Great selection of cigars - hand rolled for as...</td>\n",
       "    </tr>\n",
       "    <tr>\n",
       "      <th>2</th>\n",
       "      <td>saga bay cigars</td>\n",
       "      <td>4.9</td>\n",
       "      <td>(139)</td>\n",
       "      <td>Tobacco shop</td>\n",
       "      <td>20284 Old Cutler Rd, Cutler Bay, FL 33189</td>\n",
       "      <td>http://www.sagabaycigars.com/</td>\n",
       "      <td>main@sagabaycigars.com</td>\n",
       "      <td>25.578779</td>\n",
       "      <td>-80.335206</td>\n",
       "      <td>W Old Cutler Rd</td>\n",
       "      <td>Miami</td>\n",
       "      <td>FL</td>\n",
       "      <td>33189</td>\n",
       "      <td>Saga Bay Cigars</td>\n",
       "      <td>NEW Very chill environment. Super friendly and...</td>\n",
       "    </tr>\n",
       "    <tr>\n",
       "      <th>3</th>\n",
       "      <td>miami humidor cigar shop us1</td>\n",
       "      <td>5.0</td>\n",
       "      <td>(30)</td>\n",
       "      <td>Cigar shop</td>\n",
       "      <td>13989 S Dixie Hwy, Miami, FL 33176</td>\n",
       "      <td>http://www.miamihumidor.net/</td>\n",
       "      <td>miamihumidor@gmail.com</td>\n",
       "      <td>25.640070</td>\n",
       "      <td>-80.335377</td>\n",
       "      <td>S Dixie Hwy</td>\n",
       "      <td>Miami</td>\n",
       "      <td>FL</td>\n",
       "      <td>33176</td>\n",
       "      <td>MIAMI HUMIDOR CIGAR BUNDLE HABANO GORDO, MIAMI...</td>\n",
       "      <td>NEW I really enjoyed my experiences with Miami...</td>\n",
       "    </tr>\n",
       "    <tr>\n",
       "      <th>4</th>\n",
       "      <td>don benigno cigars (online store)</td>\n",
       "      <td>5.0</td>\n",
       "      <td>(2)</td>\n",
       "      <td>Cigar shop</td>\n",
       "      <td>8971 SW 212th Terrace, Cutler Bay, FL 33189</td>\n",
       "      <td>http://www.benignocigars.com/</td>\n",
       "      <td>store@benignocigars.com, \\nbenarr@benignocigar...</td>\n",
       "      <td>25.570090</td>\n",
       "      <td>-80.337255</td>\n",
       "      <td>SW 212th Ter</td>\n",
       "      <td>Cutler Bay</td>\n",
       "      <td>FL</td>\n",
       "      <td>33189</td>\n",
       "      <td>Don Benigno Cigars</td>\n",
       "      <td>One of the best cigars in the world.    I had ...</td>\n",
       "    </tr>\n",
       "  </tbody>\n",
       "</table>\n",
       "</div>"
      ],
      "text/plain": [
       "                                shop  rating total_ratings          type  \\\n",
       "0                 puro cigars lounge     4.8         (156)    Cigar shop   \n",
       "1  cigar bundles of miami and lounge     4.7         (143)    Cigar shop   \n",
       "2                    saga bay cigars     4.9         (139)  Tobacco shop   \n",
       "3       miami humidor cigar shop us1     5.0          (30)    Cigar shop   \n",
       "4  don benigno cigars (online store)     5.0           (2)    Cigar shop   \n",
       "\n",
       "                                             address  \\\n",
       "0  35202 S Dixie Hwy suite130, Florida City, FL 3...   \n",
       "1             405 SE 1st Ave, Florida City, FL 33034   \n",
       "2          20284 Old Cutler Rd, Cutler Bay, FL 33189   \n",
       "3                 13989 S Dixie Hwy, Miami, FL 33176   \n",
       "4        8971 SW 212th Terrace, Cutler Bay, FL 33189   \n",
       "\n",
       "                                website  \\\n",
       "0         https://purocigarslounge.com/   \n",
       "1  https://www.cigarbundlesofmiami.com/   \n",
       "2         http://www.sagabaycigars.com/   \n",
       "3          http://www.miamihumidor.net/   \n",
       "4         http://www.benignocigars.com/   \n",
       "\n",
       "                                              emails   Latitude  Longitude  \\\n",
       "0                                          Not Found  25.440188 -80.475767   \n",
       "1                                          Not Found  25.466442 -80.476960   \n",
       "2                             main@sagabaycigars.com  25.578779 -80.335206   \n",
       "3                             miamihumidor@gmail.com  25.640070 -80.335377   \n",
       "4  store@benignocigars.com, \\nbenarr@benignocigar...  25.570090 -80.337255   \n",
       "\n",
       "            Street        City State    Zip  \\\n",
       "0      S Dixie Hwy   Homestead    FL  33034   \n",
       "1       SE 1st Ave   Homestead    FL  33034   \n",
       "2  W Old Cutler Rd       Miami    FL  33189   \n",
       "3      S Dixie Hwy       Miami    FL  33176   \n",
       "4     SW 212th Ter  Cutler Bay    FL  33189   \n",
       "\n",
       "                                   Trending_Products  \\\n",
       "0  Perdomo Habano, Padron 1964 Anniversary Imperi...   \n",
       "1  \\nCuban Behike Style promo, 6x60 Boxpress Madu...   \n",
       "2                                    Saga Bay Cigars   \n",
       "3  MIAMI HUMIDOR CIGAR BUNDLE HABANO GORDO, MIAMI...   \n",
       "4                                 Don Benigno Cigars   \n",
       "\n",
       "                                      Review_Comment  \n",
       "0  NEW Best cigar shop in Florida!!! Albanian Hea...  \n",
       "1  Great selection of cigars - hand rolled for as...  \n",
       "2  NEW Very chill environment. Super friendly and...  \n",
       "3  NEW I really enjoyed my experiences with Miami...  \n",
       "4  One of the best cigars in the world.    I had ...  "
      ]
     },
     "execution_count": 16,
     "metadata": {},
     "output_type": "execute_result"
    }
   ],
   "source": [
    "df3.head()"
   ]
  },
  {
   "cell_type": "code",
   "execution_count": 17,
   "metadata": {},
   "outputs": [],
   "source": [
    "df3.to_excel(\"Version_2.xlsx\",index=False)"
   ]
  },
  {
   "cell_type": "code",
   "execution_count": null,
   "metadata": {},
   "outputs": [],
   "source": []
  }
 ],
 "metadata": {
  "kernelspec": {
   "display_name": "venv",
   "language": "python",
   "name": "python3"
  },
  "language_info": {
   "codemirror_mode": {
    "name": "ipython",
    "version": 3
   },
   "file_extension": ".py",
   "mimetype": "text/x-python",
   "name": "python",
   "nbconvert_exporter": "python",
   "pygments_lexer": "ipython3",
   "version": "3.12.4"
  }
 },
 "nbformat": 4,
 "nbformat_minor": 2
}
